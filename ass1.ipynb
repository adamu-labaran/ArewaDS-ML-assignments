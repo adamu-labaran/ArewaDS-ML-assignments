{
 "cells": [
  {
   "cell_type": "markdown",
   "id": "873fed0f",
   "metadata": {},
   "source": [
    ">### Assignment: Evaluating Data from a Form\n",
    ">A client has been testing a [small form](https://github.com/arewadataScience/ArewaDS-Machine-Learning/blob/188276d680e08c162fdb3d948ea890e2370fbd9c/2-Working-With-Data/04-data-preparation/index.html) to gather some basic data about their client-base. They have brought their findings to you to validate the data they have gathered. You can open the index.html page in a browser to take a look at the form.\n",
    "\n",
    ">You have been provided a [dataset of csv records](https://github.com/arewadataScience/ArewaDS-Machine-Learning/blob/188276d680e08c162fdb3d948ea890e2370fbd9c/data/form.csv) that contain entries from the form as well as some basic visualizations.The client pointed out that some of the visualizations look incorrect but they're unsure about how to resolve them. You can explore it in the [assignment notebook](https://github.com/arewadataScience/ArewaDS-Machine-Learning/blob/188276d680e08c162fdb3d948ea890e2370fbd9c/2-Working-With-Data/04-data-preparation/assignment.ipynb).\n",
    "\n",
    ">### Instructions\n",
    ">Use the techniques in this lesson to make recommendations about the form so it captures accurate and consistent information.\n",
    "\n"
   ]
  },
  {
   "cell_type": "code",
   "execution_count": 3,
   "id": "640752b6",
   "metadata": {},
   "outputs": [
    {
     "name": "stdout",
     "output_type": "stream",
     "text": [
      "  birth_month       state   pet\n",
      "0     January         NaN  Cats\n",
      "1         JAN          CA  Cats\n",
      "2        Sept      Hawaii   Dog\n",
      "3     january          AK   Dog\n",
      "4        July          RI  Cats\n",
      "5   September  California  Cats\n",
      "6       April          CA   Dog\n",
      "7     January  California  Cats\n",
      "8    November          FL   Dog\n",
      "9    December     Florida  Cats\n"
     ]
    }
   ],
   "source": [
    "# inspecting the form\n",
    "import pandas as pd\n",
    "\n",
    "form_df = pd.read_csv('form.csv')\n",
    "print(form_df)\n"
   ]
  },
  {
   "cell_type": "markdown",
   "id": "5d58935d",
   "metadata": {},
   "source": [
    ">Identified problem from the form dataFrame\n",
    "\n",
    ">### birth_month column\n",
    ">- abbreviation in some months such as Jan, sept\n",
    ">- Mixed case inconsistency in January, january\n",
    "\n",
    ">### state column\n",
    ">- Missing value appear in the first row NaN\n",
    ">- Abbreviated values (CA, FL, AK, etc.)\n",
    ">- Values in full names such as California, Florida\n",
    "\n",
    ">### pet column\n",
    ">- inconsistency in plural format of dog instead of dogs.\n",
    "\n"
   ]
  },
  {
   "cell_type": "code",
   "execution_count": 5,
   "id": "a5271697",
   "metadata": {},
   "outputs": [
    {
     "data": {
      "text/html": [
       "<div>\n",
       "<style scoped>\n",
       "    .dataframe tbody tr th:only-of-type {\n",
       "        vertical-align: middle;\n",
       "    }\n",
       "\n",
       "    .dataframe tbody tr th {\n",
       "        vertical-align: top;\n",
       "    }\n",
       "\n",
       "    .dataframe thead th {\n",
       "        text-align: right;\n",
       "    }\n",
       "</style>\n",
       "<table border=\"1\" class=\"dataframe\">\n",
       "  <thead>\n",
       "    <tr style=\"text-align: right;\">\n",
       "      <th></th>\n",
       "      <th>birth_month</th>\n",
       "      <th>state</th>\n",
       "      <th>pet</th>\n",
       "    </tr>\n",
       "  </thead>\n",
       "  <tbody>\n",
       "    <tr>\n",
       "      <th>0</th>\n",
       "      <td>January</td>\n",
       "      <td>NaN</td>\n",
       "      <td>Cats</td>\n",
       "    </tr>\n",
       "    <tr>\n",
       "      <th>1</th>\n",
       "      <td>JAN</td>\n",
       "      <td>CA</td>\n",
       "      <td>Cats</td>\n",
       "    </tr>\n",
       "    <tr>\n",
       "      <th>2</th>\n",
       "      <td>Sept</td>\n",
       "      <td>Hawaii</td>\n",
       "      <td>Dog</td>\n",
       "    </tr>\n",
       "    <tr>\n",
       "      <th>3</th>\n",
       "      <td>january</td>\n",
       "      <td>AK</td>\n",
       "      <td>Dog</td>\n",
       "    </tr>\n",
       "    <tr>\n",
       "      <th>4</th>\n",
       "      <td>July</td>\n",
       "      <td>RI</td>\n",
       "      <td>Cats</td>\n",
       "    </tr>\n",
       "    <tr>\n",
       "      <th>5</th>\n",
       "      <td>September</td>\n",
       "      <td>California</td>\n",
       "      <td>Cats</td>\n",
       "    </tr>\n",
       "    <tr>\n",
       "      <th>6</th>\n",
       "      <td>April</td>\n",
       "      <td>CA</td>\n",
       "      <td>Dog</td>\n",
       "    </tr>\n",
       "    <tr>\n",
       "      <th>7</th>\n",
       "      <td>January</td>\n",
       "      <td>California</td>\n",
       "      <td>Cats</td>\n",
       "    </tr>\n",
       "    <tr>\n",
       "      <th>8</th>\n",
       "      <td>November</td>\n",
       "      <td>FL</td>\n",
       "      <td>Dog</td>\n",
       "    </tr>\n",
       "    <tr>\n",
       "      <th>9</th>\n",
       "      <td>December</td>\n",
       "      <td>Florida</td>\n",
       "      <td>Cats</td>\n",
       "    </tr>\n",
       "  </tbody>\n",
       "</table>\n",
       "</div>"
      ],
      "text/plain": [
       "  birth_month       state   pet\n",
       "0     January         NaN  Cats\n",
       "1         JAN          CA  Cats\n",
       "2        Sept      Hawaii   Dog\n",
       "3     january          AK   Dog\n",
       "4        July          RI  Cats\n",
       "5   September  California  Cats\n",
       "6       April          CA   Dog\n",
       "7     January  California  Cats\n",
       "8    November          FL   Dog\n",
       "9    December     Florida  Cats"
      ]
     },
     "execution_count": 5,
     "metadata": {},
     "output_type": "execute_result"
    }
   ],
   "source": [
    "form_df"
   ]
  },
  {
   "cell_type": "code",
   "execution_count": null,
   "id": "5ed89bec",
   "metadata": {},
   "outputs": [
    {
     "data": {
      "text/plain": [
       "0      january\n",
       "1          jan\n",
       "2         sept\n",
       "3      january\n",
       "4         july\n",
       "5    september\n",
       "6        april\n",
       "7      january\n",
       "8     november\n",
       "9     december\n",
       "Name: birth_month_lowercase, dtype: object"
      ]
     },
     "execution_count": 9,
     "metadata": {},
     "output_type": "execute_result"
    }
   ],
   "source": [
    "# working with birth_month\n",
    "# Converting all values in birth_month to lowercase and strip whitespaces\n",
    "form_df['birth_month_lowercase'] = form_df['birth_month'].str.lower().str.strip()\n",
    "form_df['birth_month_lowercase']"
   ]
  },
  {
   "cell_type": "code",
   "execution_count": 11,
   "id": "dd043ff2",
   "metadata": {},
   "outputs": [
    {
     "data": {
      "text/plain": [
       "0      january\n",
       "1      january\n",
       "2    september\n",
       "3      january\n",
       "4         july\n",
       "5    september\n",
       "6        april\n",
       "7      january\n",
       "8     november\n",
       "9     december\n",
       "Name: birth_month_lowercase, dtype: object"
      ]
     },
     "execution_count": 11,
     "metadata": {},
     "output_type": "execute_result"
    }
   ],
   "source": [
    "# convert the abbreviation to full spelling\n",
    "month_non_abbreviated = {\n",
    "    'jan': 'january',\n",
    "    'sept': 'september',\n",
    "    'sep': 'september',\n",
    "    'dec': 'december',\n",
    "    'nov': 'november',\n",
    "    'jul': 'july',\n",
    "    'apr': 'april'\n",
    "}\n",
    "form_df['birth_month_lowercase'] = form_df['birth_month_lowercase'].replace(month_non_abbreviated)\n",
    "form_df['birth_month_lowercase']"
   ]
  },
  {
   "cell_type": "code",
   "execution_count": 13,
   "id": "406c6ac7",
   "metadata": {},
   "outputs": [
    {
     "data": {
      "text/plain": [
       "0      January\n",
       "1      January\n",
       "2    September\n",
       "3      January\n",
       "4         July\n",
       "5    September\n",
       "6        April\n",
       "7      January\n",
       "8     November\n",
       "9     December\n",
       "Name: birth_month_cleaned, dtype: object"
      ]
     },
     "execution_count": 13,
     "metadata": {},
     "output_type": "execute_result"
    }
   ],
   "source": [
    "# Capitalizing first letter\n",
    "form_df['birth_month_cleaned'] = form_df['birth_month_lowercase'].str.capitalize()\n",
    "form_df['birth_month_cleaned']"
   ]
  },
  {
   "cell_type": "code",
   "execution_count": 14,
   "id": "74c6c20d",
   "metadata": {},
   "outputs": [
    {
     "name": "stdout",
     "output_type": "stream",
     "text": [
      "birth_month_cleaned\n",
      "January      4\n",
      "September    2\n",
      "July         1\n",
      "April        1\n",
      "November     1\n",
      "December     1\n",
      "Name: count, dtype: int64\n"
     ]
    }
   ],
   "source": [
    "# Inspecting the results\n",
    "print(form_df['birth_month_cleaned'].value_counts())"
   ]
  },
  {
   "cell_type": "code",
   "execution_count": null,
   "metadata": {},
   "outputs": [
    {
     "data": {
      "image/png": "[encoded data removed]",
      "text/plain": [
       "<Figure size 640x480 with 1 Axes>"
      ]
     },
     "metadata": {},
     "output_type": "display_data"
    }
   ],
   "source": [
    "import matplotlib.pyplot as plt\n",
    "import numpy as np \n",
    "import pandas as pd\n",
    "\n",
    "# plotting the result\n",
    "form_df['birth_month_cleaned'].value_counts().plot(kind='bar')\n",
    "plt.title(\"Cleaned Birth Month\")\n",
    "plt.xticks(rotation=45)\n",
    "plt.show()\n"
   ]
  },
  {
   "cell_type": "code",
   "execution_count": 17,
   "id": "07697a2c",
   "metadata": {},
   "outputs": [
    {
     "data": {
      "text/plain": [
       "Index(['birth_month', 'state', 'pet', 'birth_month_cleaned',\n",
       "       'birth_month_lowercase'],\n",
       "      dtype='object')"
      ]
     },
     "execution_count": 17,
     "metadata": {},
     "output_type": "execute_result"
    }
   ],
   "source": [
    "form_df.columns"
   ]
  },
  {
   "cell_type": "code",
   "execution_count": 18,
   "id": "c0b75703",
   "metadata": {},
   "outputs": [
    {
     "data": {
      "text/plain": [
       "0           NaN\n",
       "1            CA\n",
       "2        Hawaii\n",
       "3            AK\n",
       "4            RI\n",
       "5    California\n",
       "6            CA\n",
       "7    California\n",
       "8            FL\n",
       "9       Florida\n",
       "Name: state, dtype: object"
      ]
     },
     "execution_count": 18,
     "metadata": {},
     "output_type": "execute_result"
    }
   ],
   "source": [
    "form_df['state']"
   ]
  },
  {
   "cell_type": "code",
   "execution_count": 19,
   "id": "4d394ed7",
   "metadata": {},
   "outputs": [
    {
     "data": {
      "text/plain": [
       "0           NaN\n",
       "1            CA\n",
       "2        HAWAII\n",
       "3            AK\n",
       "4            RI\n",
       "5    CALIFORNIA\n",
       "6            CA\n",
       "7    CALIFORNIA\n",
       "8            FL\n",
       "9       FLORIDA\n",
       "Name: state_uppercase, dtype: object"
      ]
     },
     "execution_count": 19,
     "metadata": {},
     "output_type": "execute_result"
    }
   ],
   "source": [
    "# cleaning state column\n",
    "# Converting all the values to uppercase\n",
    "form_df['state_uppercase'] = form_df['state'].str.upper().str.strip()\n",
    "form_df['state_uppercase']"
   ]
  },
  {
   "cell_type": "code",
   "execution_count": null,
   "id": "b634a075",
   "metadata": {},
   "outputs": [
    {
     "data": {
      "text/plain": [
       "0    NaN\n",
       "1     CA\n",
       "2     HI\n",
       "3     AK\n",
       "4     RI\n",
       "5     CA\n",
       "6     CA\n",
       "7     CA\n",
       "8     FL\n",
       "9     FL\n",
       "Name: state_cleaned, dtype: object"
      ]
     },
     "execution_count": 20,
     "metadata": {},
     "output_type": "execute_result"
    }
   ],
   "source": [
    "# changing full state names with abbreviations\n",
    "state_abbreviations = {\n",
    "    'CALIFORNIA': 'CA',\n",
    "    'FLORIDA': 'FL',\n",
    "    'HAWAII': 'HI'\n",
    "}\n",
    "\n",
    "form_df['state_cleaned'] = form_df['state_uppercase'].replace(state_abbreviations)\n",
    "form_df['state_cleaned']"
   ]
  },
  {
   "cell_type": "code",
   "execution_count": 21,
   "id": "cf41050d",
   "metadata": {},
   "outputs": [
    {
     "name": "stdout",
     "output_type": "stream",
     "text": [
      "state_cleaned\n",
      "CA    4\n",
      "FL    2\n",
      "HI    1\n",
      "AK    1\n",
      "RI    1\n",
      "Name: count, dtype: int64\n"
     ]
    }
   ],
   "source": [
    "# inspecting the state column\n",
    "print(form_df['state_cleaned'].value_counts())"
   ]
  },
  {
   "cell_type": "code",
   "execution_count": 22,
   "metadata": {},
   "outputs": [
    {
     "data": {
      "image/png": "[encoded data removed]",
      "text/plain": [
       "<Figure size 640x480 with 1 Axes>"
      ]
     },
     "metadata": {},
     "output_type": "display_data"
    }
   ],
   "source": [
    "# plotting the state variables\n",
    "form_df['state_cleaned'].value_counts().plot(kind='bar')\n",
    "plt.title(\"Cleaned State\")\n",
    "plt.show()\n"
   ]
  },
  {
   "cell_type": "code",
   "execution_count": null,
   "id": "0f408c53",
   "metadata": {},
   "outputs": [
    {
     "data": {
      "text/plain": [
       "0    Cats\n",
       "1    Cats\n",
       "2     Dog\n",
       "3     Dog\n",
       "4    Cats\n",
       "5    Cats\n",
       "6     Dog\n",
       "7    Cats\n",
       "8     Dog\n",
       "9    Cats\n",
       "Name: pet_cleaned, dtype: object"
      ]
     },
     "execution_count": 24,
     "metadata": {},
     "output_type": "execute_result"
    }
   ],
   "source": [
    "# cleaning pet column\n",
    "# conveting all values to capitalize format\n",
    "form_df['pet_cleaned'] = form_df['pet'].str.capitalize().str.strip()\n",
    "form_df['pet_cleaned']"
   ]
  },
  {
   "cell_type": "code",
   "execution_count": 25,
   "id": "fc8fb0ab",
   "metadata": {},
   "outputs": [
    {
     "name": "stdout",
     "output_type": "stream",
     "text": [
      "pet_cleaned\n",
      "Cats    6\n",
      "Dog     4\n",
      "Name: count, dtype: int64\n"
     ]
    }
   ],
   "source": [
    "# inspecting the pet column\n",
    "print(form_df['pet_cleaned'].value_counts())"
   ]
  },
  {
   "cell_type": "code",
   "execution_count": 26,
   "id": "cce9b865",
   "metadata": {},
   "outputs": [
    {
     "data": {
      "text/plain": [
       "0    cats\n",
       "1    cats\n",
       "2    Dogs\n",
       "3    Dogs\n",
       "4    cats\n",
       "5    cats\n",
       "6    Dogs\n",
       "7    cats\n",
       "8    Dogs\n",
       "9    cats\n",
       "Name: pet, dtype: object"
      ]
     },
     "execution_count": 26,
     "metadata": {},
     "output_type": "execute_result"
    }
   ],
   "source": [
    "# converting the values to lowercase and making some necessary replacement\n",
    "form_df['pet'] = form_df['pet'].str.strip().str.lower()\n",
    "\n",
    "# Replace plural consistently\n",
    "form_df['pet'] = form_df['pet'].replace({'dog': 'Dogs', 'cat': 'Cats'})\n",
    "form_df['pet']"
   ]
  },
  {
   "cell_type": "code",
   "execution_count": 27,
   "id": "1c62fb42",
   "metadata": {},
   "outputs": [
    {
     "data": {
      "image/png": "[encoded data removed]",
      "text/plain": [
       "<Figure size 640x480 with 1 Axes>"
      ]
     },
     "metadata": {},
     "output_type": "display_data"
    }
   ],
   "source": [
    "# visualizing pet\n",
    "form_df['pet'].value_counts().plot(kind='pie')\n",
    "plt.title(\"pet\")\n",
    "plt.show()\n"
   ]
  }
 ],
 "metadata": {
  "kernelspec": {
   "display_name": "Python 3",
   "language": "python",
   "name": "python3"
  },
  "language_info": {
   "codemirror_mode": {
    "name": "ipython",
    "version": 3
   },
   "file_extension": ".py",
   "mimetype": "text/x-python",
   "name": "python",
   "nbconvert_exporter": "python",
   "pygments_lexer": "ipython3",
   "version": "3.12.10"
  }
 },
 "nbformat": 4,
 "nbformat_minor": 5
}
